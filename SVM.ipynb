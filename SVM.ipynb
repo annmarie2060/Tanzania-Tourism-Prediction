{
 "cells": [
  {
   "cell_type": "code",
   "execution_count": 31,
   "metadata": {},
   "outputs": [],
   "source": [
    "\n",
    "import numpy as np \n",
    "import pandas as pd \n",
    "import matplotlib.pyplot as plt\n",
    "%matplotlib inline\n",
    "import seaborn as sns\n",
    "import warnings\n",
    "warnings.filterwarnings(\"ignore\")\n",
    "pd.options.display.max_columns = None\n",
    "import os\n",
    "for dirname, _, filenames in os.walk('/kaggle/input'):\n",
    "    for filename in filenames:\n",
    "        print(os.path.join(dirname, filename))\n"
   ]
  },
  {
   "cell_type": "code",
   "execution_count": 2,
   "metadata": {},
   "outputs": [],
   "source": [
    "train=pd.read_csv(r\"C:\\Users\\Anne Marie\\Desktop\\Tourism Hackathon\\Train.csv\")\n",
    "test=pd.read_csv(r\"C:\\Users\\Anne Marie\\Desktop\\Tourism Hackathon\\Test.csv\")\n",
    "sub_df=pd.read_csv(r\"C:\\Users\\Anne Marie\\Desktop\\Tourism Hackathon\\SampleSubmission.csv\")\n",
    "descp=pd.read_csv(r\"C:\\Users\\Anne Marie\\Desktop\\Tourism Hackathon\\VariableDefinitions.csv\")"
   ]
  },
  {
   "cell_type": "code",
   "execution_count": 3,
   "metadata": {},
   "outputs": [
    {
     "name": "stdout",
     "output_type": "stream",
     "text": [
      "Size of train (4809, 23)\n",
      "Size of test (1601, 22)\n"
     ]
    }
   ],
   "source": [
    "print(\"Size of train\",train.shape)\n",
    "print(\"Size of test\",test.shape)"
   ]
  },
  {
   "cell_type": "code",
   "execution_count": 4,
   "metadata": {},
   "outputs": [
    {
     "data": {
      "text/html": [
       "<div>\n",
       "<style scoped>\n",
       "    .dataframe tbody tr th:only-of-type {\n",
       "        vertical-align: middle;\n",
       "    }\n",
       "\n",
       "    .dataframe tbody tr th {\n",
       "        vertical-align: top;\n",
       "    }\n",
       "\n",
       "    .dataframe thead th {\n",
       "        text-align: right;\n",
       "    }\n",
       "</style>\n",
       "<table border=\"1\" class=\"dataframe\">\n",
       "  <thead>\n",
       "    <tr style=\"text-align: right;\">\n",
       "      <th></th>\n",
       "      <th>ID</th>\n",
       "      <th>country</th>\n",
       "      <th>age_group</th>\n",
       "      <th>travel_with</th>\n",
       "      <th>total_female</th>\n",
       "      <th>total_male</th>\n",
       "      <th>purpose</th>\n",
       "      <th>main_activity</th>\n",
       "      <th>info_source</th>\n",
       "      <th>tour_arrangement</th>\n",
       "      <th>package_transport_int</th>\n",
       "      <th>package_accomodation</th>\n",
       "      <th>package_food</th>\n",
       "      <th>package_transport_tz</th>\n",
       "      <th>package_sightseeing</th>\n",
       "      <th>package_guided_tour</th>\n",
       "      <th>package_insurance</th>\n",
       "      <th>night_mainland</th>\n",
       "      <th>night_zanzibar</th>\n",
       "      <th>payment_mode</th>\n",
       "      <th>first_trip_tz</th>\n",
       "      <th>most_impressing</th>\n",
       "      <th>total_cost</th>\n",
       "    </tr>\n",
       "  </thead>\n",
       "  <tbody>\n",
       "    <tr>\n",
       "      <th>0</th>\n",
       "      <td>tour_0</td>\n",
       "      <td>SWIZERLAND</td>\n",
       "      <td>45-64</td>\n",
       "      <td>Friends/Relatives</td>\n",
       "      <td>1.0</td>\n",
       "      <td>1.0</td>\n",
       "      <td>Leisure and Holidays</td>\n",
       "      <td>Wildlife tourism</td>\n",
       "      <td>Friends, relatives</td>\n",
       "      <td>Independent</td>\n",
       "      <td>No</td>\n",
       "      <td>No</td>\n",
       "      <td>No</td>\n",
       "      <td>No</td>\n",
       "      <td>No</td>\n",
       "      <td>No</td>\n",
       "      <td>No</td>\n",
       "      <td>13.0</td>\n",
       "      <td>0.0</td>\n",
       "      <td>Cash</td>\n",
       "      <td>No</td>\n",
       "      <td>Friendly People</td>\n",
       "      <td>674602.5</td>\n",
       "    </tr>\n",
       "    <tr>\n",
       "      <th>1</th>\n",
       "      <td>tour_10</td>\n",
       "      <td>UNITED KINGDOM</td>\n",
       "      <td>25-44</td>\n",
       "      <td>NaN</td>\n",
       "      <td>1.0</td>\n",
       "      <td>0.0</td>\n",
       "      <td>Leisure and Holidays</td>\n",
       "      <td>Cultural tourism</td>\n",
       "      <td>others</td>\n",
       "      <td>Independent</td>\n",
       "      <td>No</td>\n",
       "      <td>No</td>\n",
       "      <td>No</td>\n",
       "      <td>No</td>\n",
       "      <td>No</td>\n",
       "      <td>No</td>\n",
       "      <td>No</td>\n",
       "      <td>14.0</td>\n",
       "      <td>7.0</td>\n",
       "      <td>Cash</td>\n",
       "      <td>Yes</td>\n",
       "      <td>Wonderful Country, Landscape, Nature</td>\n",
       "      <td>3214906.5</td>\n",
       "    </tr>\n",
       "    <tr>\n",
       "      <th>2</th>\n",
       "      <td>tour_1000</td>\n",
       "      <td>UNITED KINGDOM</td>\n",
       "      <td>25-44</td>\n",
       "      <td>Alone</td>\n",
       "      <td>0.0</td>\n",
       "      <td>1.0</td>\n",
       "      <td>Visiting Friends and Relatives</td>\n",
       "      <td>Cultural tourism</td>\n",
       "      <td>Friends, relatives</td>\n",
       "      <td>Independent</td>\n",
       "      <td>No</td>\n",
       "      <td>No</td>\n",
       "      <td>No</td>\n",
       "      <td>No</td>\n",
       "      <td>No</td>\n",
       "      <td>No</td>\n",
       "      <td>No</td>\n",
       "      <td>1.0</td>\n",
       "      <td>31.0</td>\n",
       "      <td>Cash</td>\n",
       "      <td>No</td>\n",
       "      <td>Excellent Experience</td>\n",
       "      <td>3315000.0</td>\n",
       "    </tr>\n",
       "    <tr>\n",
       "      <th>3</th>\n",
       "      <td>tour_1002</td>\n",
       "      <td>UNITED KINGDOM</td>\n",
       "      <td>25-44</td>\n",
       "      <td>Spouse</td>\n",
       "      <td>1.0</td>\n",
       "      <td>1.0</td>\n",
       "      <td>Leisure and Holidays</td>\n",
       "      <td>Wildlife tourism</td>\n",
       "      <td>Travel, agent, tour operator</td>\n",
       "      <td>Package Tour</td>\n",
       "      <td>No</td>\n",
       "      <td>Yes</td>\n",
       "      <td>Yes</td>\n",
       "      <td>Yes</td>\n",
       "      <td>Yes</td>\n",
       "      <td>Yes</td>\n",
       "      <td>No</td>\n",
       "      <td>11.0</td>\n",
       "      <td>0.0</td>\n",
       "      <td>Cash</td>\n",
       "      <td>Yes</td>\n",
       "      <td>Friendly People</td>\n",
       "      <td>7790250.0</td>\n",
       "    </tr>\n",
       "    <tr>\n",
       "      <th>4</th>\n",
       "      <td>tour_1004</td>\n",
       "      <td>CHINA</td>\n",
       "      <td>1-24</td>\n",
       "      <td>NaN</td>\n",
       "      <td>1.0</td>\n",
       "      <td>0.0</td>\n",
       "      <td>Leisure and Holidays</td>\n",
       "      <td>Wildlife tourism</td>\n",
       "      <td>Travel, agent, tour operator</td>\n",
       "      <td>Independent</td>\n",
       "      <td>No</td>\n",
       "      <td>No</td>\n",
       "      <td>No</td>\n",
       "      <td>No</td>\n",
       "      <td>No</td>\n",
       "      <td>No</td>\n",
       "      <td>No</td>\n",
       "      <td>7.0</td>\n",
       "      <td>4.0</td>\n",
       "      <td>Cash</td>\n",
       "      <td>Yes</td>\n",
       "      <td>No comments</td>\n",
       "      <td>1657500.0</td>\n",
       "    </tr>\n",
       "  </tbody>\n",
       "</table>\n",
       "</div>"
      ],
      "text/plain": [
       "          ID         country age_group        travel_with  total_female  \\\n",
       "0     tour_0      SWIZERLAND     45-64  Friends/Relatives           1.0   \n",
       "1    tour_10  UNITED KINGDOM     25-44                NaN           1.0   \n",
       "2  tour_1000  UNITED KINGDOM     25-44              Alone           0.0   \n",
       "3  tour_1002  UNITED KINGDOM     25-44             Spouse           1.0   \n",
       "4  tour_1004           CHINA      1-24                NaN           1.0   \n",
       "\n",
       "   total_male                         purpose     main_activity  \\\n",
       "0         1.0            Leisure and Holidays  Wildlife tourism   \n",
       "1         0.0            Leisure and Holidays  Cultural tourism   \n",
       "2         1.0  Visiting Friends and Relatives  Cultural tourism   \n",
       "3         1.0            Leisure and Holidays  Wildlife tourism   \n",
       "4         0.0            Leisure and Holidays  Wildlife tourism   \n",
       "\n",
       "                    info_source tour_arrangement package_transport_int  \\\n",
       "0            Friends, relatives      Independent                    No   \n",
       "1                        others      Independent                    No   \n",
       "2            Friends, relatives      Independent                    No   \n",
       "3  Travel, agent, tour operator     Package Tour                    No   \n",
       "4  Travel, agent, tour operator      Independent                    No   \n",
       "\n",
       "  package_accomodation package_food package_transport_tz package_sightseeing  \\\n",
       "0                   No           No                   No                  No   \n",
       "1                   No           No                   No                  No   \n",
       "2                   No           No                   No                  No   \n",
       "3                  Yes          Yes                  Yes                 Yes   \n",
       "4                   No           No                   No                  No   \n",
       "\n",
       "  package_guided_tour package_insurance  night_mainland  night_zanzibar  \\\n",
       "0                  No                No            13.0             0.0   \n",
       "1                  No                No            14.0             7.0   \n",
       "2                  No                No             1.0            31.0   \n",
       "3                 Yes                No            11.0             0.0   \n",
       "4                  No                No             7.0             4.0   \n",
       "\n",
       "  payment_mode first_trip_tz                       most_impressing  total_cost  \n",
       "0         Cash            No                       Friendly People    674602.5  \n",
       "1         Cash           Yes  Wonderful Country, Landscape, Nature   3214906.5  \n",
       "2         Cash            No                  Excellent Experience   3315000.0  \n",
       "3         Cash           Yes                       Friendly People   7790250.0  \n",
       "4         Cash           Yes                           No comments   1657500.0  "
      ]
     },
     "execution_count": 4,
     "metadata": {},
     "output_type": "execute_result"
    }
   ],
   "source": [
    "train.head()"
   ]
  },
  {
   "cell_type": "code",
   "execution_count": 5,
   "metadata": {},
   "outputs": [
    {
     "data": {
      "image/png": "[encoded data removed]",
      "text/plain": [
       "<Figure size 1440x360 with 1 Axes>"
      ]
     },
     "metadata": {
      "needs_background": "light"
     },
     "output_type": "display_data"
    }
   ],
   "source": [
    "fig, ax = plt.subplots()\n",
    "fig.set_size_inches(20, 5)\n",
    "sns.countplot(x = 'travel_with', data = train)\n",
    "ax.set_xlabel('travel_with', fontsize=15)\n",
    "ax.set_ylabel('Count', fontsize=15)\n",
    "ax.set_title('travel_with Count Distribution', fontsize=15)\n",
    "ax.tick_params(labelsize=15)\n",
    "sns.despine()"
   ]
  },
  {
   "cell_type": "code",
   "execution_count": 6,
   "metadata": {},
   "outputs": [
    {
     "data": {
      "image/png": "[encoded data removed]",
      "text/plain": [
       "<Figure size 432x288 with 1 Axes>"
      ]
     },
     "metadata": {
      "needs_background": "light"
     },
     "output_type": "display_data"
    }
   ],
   "source": [
    "sns.boxplot(y='total_cost', data=train, showfliers=False)\n",
    "plt.show()"
   ]
  },
  {
   "cell_type": "code",
   "execution_count": 7,
   "metadata": {},
   "outputs": [
    {
     "name": "stdout",
     "output_type": "stream",
     "text": [
      "0 percentile value is 49000.0\n",
      "10 percentile value is 248625.0\n",
      "20 percentile value is 530400.0\n",
      "30 percentile value is 1065000.0\n",
      "40 percentile value is 2000000.0\n",
      "50 percentile value is 3397875.0\n",
      "60 percentile value is 5304000.0\n",
      "70 percentile value is 8121750.0\n",
      "80 percentile value is 12254382.0\n",
      "90 percentile value is 21810040.0\n",
      "100 percentile value is  99532875.0\n"
     ]
    }
   ],
   "source": [
    "for i in range(0, 100, 10):\n",
    "    var =train[\"total_cost\"].values\n",
    "    var = np.sort(var,axis = None)\n",
    "    print(\"{} percentile value is {}\".format(i,var[int(len(var)*(float(i)/100))]))\n",
    "print(\"100 percentile value is \",var[-1])"
   ]
  },
  {
   "cell_type": "code",
   "execution_count": 8,
   "metadata": {},
   "outputs": [
    {
     "name": "stdout",
     "output_type": "stream",
     "text": [
      "90 percentile value is 21810040.0\n",
      "91 percentile value is 23453625.0\n",
      "92 percentile value is 25111125.0\n",
      "93 percentile value is 26934375.0\n",
      "94 percentile value is 29873025.0\n",
      "95 percentile value is 33481500.0\n",
      "96 percentile value is 35636250.0\n",
      "97 percentile value is 41437500.0\n",
      "98 percentile value is 49890750.0\n",
      "99 percentile value is 58344000.0\n",
      "100 percentile value is  99532875.0\n"
     ]
    }
   ],
   "source": [
    "for i in range(90, 100, 1):\n",
    "    var =train[\"total_cost\"].values\n",
    "    var = np.sort(var,axis = None)\n",
    "    print(\"{} percentile value is {}\".format(i,var[int(len(var)*(float(i)/100))]))\n",
    "print(\"100 percentile value is \",var[-1])"
   ]
  },
  {
   "cell_type": "markdown",
   "metadata": {},
   "source": [
    "##### Only 1% of the tourists have a total cost of more than 58,344,000.00\n",
    "##### Only 90% of the tourists have a total cost of less than 21,810,040.00"
   ]
  },
  {
   "cell_type": "markdown",
   "metadata": {},
   "source": [
    "#### Correlation between features(columns) and target variable ‘y’"
   ]
  },
  {
   "cell_type": "code",
   "execution_count": 9,
   "metadata": {},
   "outputs": [
    {
     "data": {
      "text/plain": [
       "Index(['ID', 'country', 'age_group', 'travel_with', 'total_female',\n",
       "       'total_male', 'purpose', 'main_activity', 'info_source',\n",
       "       'tour_arrangement', 'package_transport_int', 'package_accomodation',\n",
       "       'package_food', 'package_transport_tz', 'package_sightseeing',\n",
       "       'package_guided_tour', 'package_insurance', 'night_mainland',\n",
       "       'night_zanzibar', 'payment_mode', 'first_trip_tz', 'most_impressing',\n",
       "       'total_cost'],\n",
       "      dtype='object')"
      ]
     },
     "execution_count": 9,
     "metadata": {},
     "output_type": "execute_result"
    }
   ],
   "source": [
    "train.columns"
   ]
  },
  {
   "cell_type": "code",
   "execution_count": 10,
   "metadata": {},
   "outputs": [
    {
     "data": {
      "image/png": "[encoded data removed]",
      "text/plain": [
       "<Figure size 432x288 with 1 Axes>"
      ]
     },
     "metadata": {
      "needs_background": "light"
     },
     "output_type": "display_data"
    }
   ],
   "source": [
    "sns.boxplot(x='age_group', y='total_cost', data=train, showfliers=False)\n",
    "plt.show()"
   ]
  },
  {
   "cell_type": "code",
   "execution_count": 11,
   "metadata": {},
   "outputs": [
    {
     "data": {
      "image/png": "[encoded data removed]",
      "text/plain": [
       "<Figure size 432x288 with 1 Axes>"
      ]
     },
     "metadata": {
      "needs_background": "light"
     },
     "output_type": "display_data"
    }
   ],
   "source": [
    "sns.boxplot(x='travel_with', y='total_cost', data=train, showfliers=False)\n",
    "plt.show()"
   ]
  },
  {
   "cell_type": "code",
   "execution_count": 12,
   "metadata": {
    "scrolled": true
   },
   "outputs": [
    {
     "data": {
      "image/png": "[encoded data removed]",
      "text/plain": [
       "<Figure size 432x288 with 1 Axes>"
      ]
     },
     "metadata": {
      "needs_background": "light"
     },
     "output_type": "display_data"
    }
   ],
   "source": [
    "sns.boxplot(x='total_cost', y='purpose', data=train, showfliers=False)\n",
    "plt.show()"
   ]
  },
  {
   "cell_type": "code",
   "execution_count": 13,
   "metadata": {},
   "outputs": [
    {
     "data": {
      "image/png": "[encoded data removed]",
      "text/plain": [
       "<Figure size 432x288 with 1 Axes>"
      ]
     },
     "metadata": {
      "needs_background": "light"
     },
     "output_type": "display_data"
    }
   ],
   "source": [
    "sns.boxplot(x='tour_arrangement', y='total_cost', data=train, showfliers=False)\n",
    "plt.show()"
   ]
  },
  {
   "cell_type": "code",
   "execution_count": 14,
   "metadata": {},
   "outputs": [
    {
     "data": {
      "text/plain": [
       "['ID',\n",
       " 'country',\n",
       " 'age_group',\n",
       " 'travel_with',\n",
       " 'total_female',\n",
       " 'total_male',\n",
       " 'purpose',\n",
       " 'main_activity',\n",
       " 'info_source',\n",
       " 'tour_arrangement',\n",
       " 'package_transport_int',\n",
       " 'package_accomodation',\n",
       " 'package_food',\n",
       " 'package_transport_tz',\n",
       " 'package_sightseeing',\n",
       " 'package_guided_tour',\n",
       " 'package_insurance',\n",
       " 'night_mainland',\n",
       " 'night_zanzibar',\n",
       " 'payment_mode',\n",
       " 'first_trip_tz',\n",
       " 'most_impressing',\n",
       " 'total_cost']"
      ]
     },
     "execution_count": 14,
     "metadata": {},
     "output_type": "execute_result"
    }
   ],
   "source": [
    "data=pd.concat([train,test],sort=False).reset_index(drop=True)\n",
    "data.columns.tolist()"
   ]
  },
  {
   "cell_type": "code",
   "execution_count": 15,
   "metadata": {},
   "outputs": [
    {
     "data": {
      "text/plain": [
       "ID                          0\n",
       "country                     0\n",
       "age_group                   0\n",
       "travel_with              1441\n",
       "total_female                4\n",
       "total_male                  7\n",
       "purpose                     0\n",
       "main_activity               0\n",
       "info_source                 0\n",
       "tour_arrangement            0\n",
       "package_transport_int       0\n",
       "package_accomodation        0\n",
       "package_food                0\n",
       "package_transport_tz        0\n",
       "package_sightseeing         0\n",
       "package_guided_tour         0\n",
       "package_insurance           0\n",
       "night_mainland              0\n",
       "night_zanzibar              0\n",
       "payment_mode                0\n",
       "first_trip_tz               0\n",
       "most_impressing           424\n",
       "total_cost               1601\n",
       "dtype: int64"
      ]
     },
     "execution_count": 15,
     "metadata": {},
     "output_type": "execute_result"
    }
   ],
   "source": [
    "data.isnull().sum()"
   ]
  },
  {
   "cell_type": "code",
   "execution_count": 16,
   "metadata": {},
   "outputs": [],
   "source": [
    "data.travel_with.fillna('None',inplace=True)\n",
    "data.most_impressing.fillna('None',inplace=True)\n",
    "data.total_female.fillna(data.total_female.mean(),inplace = True)\n",
    "data.total_male.fillna(data.total_male.mean(),inplace = True)"
   ]
  },
  {
   "cell_type": "code",
   "execution_count": 17,
   "metadata": {},
   "outputs": [
    {
     "data": {
      "text/plain": [
       "ID                          0\n",
       "country                     0\n",
       "age_group                   0\n",
       "travel_with                 0\n",
       "total_female                0\n",
       "total_male                  0\n",
       "purpose                     0\n",
       "main_activity               0\n",
       "info_source                 0\n",
       "tour_arrangement            0\n",
       "package_transport_int       0\n",
       "package_accomodation        0\n",
       "package_food                0\n",
       "package_transport_tz        0\n",
       "package_sightseeing         0\n",
       "package_guided_tour         0\n",
       "package_insurance           0\n",
       "night_mainland              0\n",
       "night_zanzibar              0\n",
       "payment_mode                0\n",
       "first_trip_tz               0\n",
       "most_impressing             0\n",
       "total_cost               1601\n",
       "dtype: int64"
      ]
     },
     "execution_count": 17,
     "metadata": {},
     "output_type": "execute_result"
    }
   ],
   "source": [
    "data.isnull().sum()"
   ]
  },
  {
   "cell_type": "code",
   "execution_count": 18,
   "metadata": {},
   "outputs": [],
   "source": [
    " \n",
    "from sklearn.preprocessing import LabelEncoder\n",
    "le = LabelEncoder()\n",
    "data['age_group'] = le.fit_transform(data['age_group'])\n",
    "data['package_transport_int'] = le.fit_transform(data['package_transport_int'])\n",
    "data['package_accomodation'] = le.fit_transform(data['package_accomodation'])\n",
    "data['package_food'] = le.fit_transform(data['package_food'])\n",
    "data['package_transport_tz'] = le.fit_transform(data['package_transport_tz'])\n",
    "data['package_sightseeing'] = le.fit_transform(data['package_sightseeing'])\n",
    "data['package_guided_tour'] = le.fit_transform(data['package_guided_tour'])\n",
    "data['package_insurance'] = le.fit_transform(data['package_insurance'])\n",
    "data['first_trip_tz'] = le.fit_transform(data['first_trip_tz'])\n",
    "data['country'] = le.fit_transform(data['country'])"
   ]
  },
  {
   "cell_type": "code",
   "execution_count": 19,
   "metadata": {},
   "outputs": [],
   "source": [
    "columns_to_transform = ['tour_arrangement','travel_with','purpose','main_activity','info_source','most_impressing','payment_mode']\n",
    "data = pd.get_dummies( data,columns = columns_to_transform,drop_first=True)"
   ]
  },
  {
   "cell_type": "code",
   "execution_count": 20,
   "metadata": {},
   "outputs": [
    {
     "data": {
      "text/html": [
       "<div>\n",
       "<style scoped>\n",
       "    .dataframe tbody tr th:only-of-type {\n",
       "        vertical-align: middle;\n",
       "    }\n",
       "\n",
       "    .dataframe tbody tr th {\n",
       "        vertical-align: top;\n",
       "    }\n",
       "\n",
       "    .dataframe thead th {\n",
       "        text-align: right;\n",
       "    }\n",
       "</style>\n",
       "<table border=\"1\" class=\"dataframe\">\n",
       "  <thead>\n",
       "    <tr style=\"text-align: right;\">\n",
       "      <th></th>\n",
       "      <th>ID</th>\n",
       "      <th>country</th>\n",
       "      <th>age_group</th>\n",
       "      <th>total_female</th>\n",
       "      <th>total_male</th>\n",
       "      <th>package_transport_int</th>\n",
       "      <th>package_accomodation</th>\n",
       "      <th>package_food</th>\n",
       "      <th>package_transport_tz</th>\n",
       "      <th>package_sightseeing</th>\n",
       "      <th>package_guided_tour</th>\n",
       "      <th>package_insurance</th>\n",
       "      <th>night_mainland</th>\n",
       "      <th>night_zanzibar</th>\n",
       "      <th>first_trip_tz</th>\n",
       "      <th>total_cost</th>\n",
       "      <th>tour_arrangement_Package Tour</th>\n",
       "      <th>travel_with_Children</th>\n",
       "      <th>travel_with_Friends/Relatives</th>\n",
       "      <th>travel_with_None</th>\n",
       "      <th>travel_with_Spouse</th>\n",
       "      <th>travel_with_Spouse and Children</th>\n",
       "      <th>purpose_Leisure and Holidays</th>\n",
       "      <th>purpose_Meetings and Conference</th>\n",
       "      <th>purpose_Other</th>\n",
       "      <th>purpose_Scientific and Academic</th>\n",
       "      <th>purpose_Visiting Friends and Relatives</th>\n",
       "      <th>purpose_Volunteering</th>\n",
       "      <th>main_activity_Bird watching</th>\n",
       "      <th>main_activity_Conference tourism</th>\n",
       "      <th>main_activity_Cultural tourism</th>\n",
       "      <th>main_activity_Diving and Sport Fishing</th>\n",
       "      <th>main_activity_Hunting tourism</th>\n",
       "      <th>main_activity_Mountain climbing</th>\n",
       "      <th>main_activity_Wildlife tourism</th>\n",
       "      <th>main_activity_business</th>\n",
       "      <th>info_source_Newspaper, magazines,brochures</th>\n",
       "      <th>info_source_Radio, TV, Web</th>\n",
       "      <th>info_source_Tanzania Mission Abroad</th>\n",
       "      <th>info_source_Trade fair</th>\n",
       "      <th>info_source_Travel, agent, tour operator</th>\n",
       "      <th>info_source_inflight magazines</th>\n",
       "      <th>info_source_others</th>\n",
       "      <th>most_impressing_Excellent Experience</th>\n",
       "      <th>most_impressing_Friendly People</th>\n",
       "      <th>most_impressing_Good service</th>\n",
       "      <th>most_impressing_No comments</th>\n",
       "      <th>most_impressing_None</th>\n",
       "      <th>most_impressing_Satisfies and Hope Come Back</th>\n",
       "      <th>most_impressing_Wonderful Country, Landscape, Nature</th>\n",
       "      <th>payment_mode_Credit Card</th>\n",
       "      <th>payment_mode_Other</th>\n",
       "      <th>payment_mode_Travellers Cheque</th>\n",
       "    </tr>\n",
       "  </thead>\n",
       "  <tbody>\n",
       "    <tr>\n",
       "      <th>0</th>\n",
       "      <td>tour_0</td>\n",
       "      <td>101</td>\n",
       "      <td>3</td>\n",
       "      <td>1.0</td>\n",
       "      <td>1.0</td>\n",
       "      <td>0</td>\n",
       "      <td>0</td>\n",
       "      <td>0</td>\n",
       "      <td>0</td>\n",
       "      <td>0</td>\n",
       "      <td>0</td>\n",
       "      <td>0</td>\n",
       "      <td>13.0</td>\n",
       "      <td>0.0</td>\n",
       "      <td>0</td>\n",
       "      <td>674602.5</td>\n",
       "      <td>0</td>\n",
       "      <td>0</td>\n",
       "      <td>1</td>\n",
       "      <td>0</td>\n",
       "      <td>0</td>\n",
       "      <td>0</td>\n",
       "      <td>1</td>\n",
       "      <td>0</td>\n",
       "      <td>0</td>\n",
       "      <td>0</td>\n",
       "      <td>0</td>\n",
       "      <td>0</td>\n",
       "      <td>0</td>\n",
       "      <td>0</td>\n",
       "      <td>0</td>\n",
       "      <td>0</td>\n",
       "      <td>0</td>\n",
       "      <td>0</td>\n",
       "      <td>1</td>\n",
       "      <td>0</td>\n",
       "      <td>0</td>\n",
       "      <td>0</td>\n",
       "      <td>0</td>\n",
       "      <td>0</td>\n",
       "      <td>0</td>\n",
       "      <td>0</td>\n",
       "      <td>0</td>\n",
       "      <td>0</td>\n",
       "      <td>1</td>\n",
       "      <td>0</td>\n",
       "      <td>0</td>\n",
       "      <td>0</td>\n",
       "      <td>0</td>\n",
       "      <td>0</td>\n",
       "      <td>0</td>\n",
       "      <td>0</td>\n",
       "      <td>0</td>\n",
       "    </tr>\n",
       "    <tr>\n",
       "      <th>1</th>\n",
       "      <td>tour_10</td>\n",
       "      <td>111</td>\n",
       "      <td>2</td>\n",
       "      <td>1.0</td>\n",
       "      <td>0.0</td>\n",
       "      <td>0</td>\n",
       "      <td>0</td>\n",
       "      <td>0</td>\n",
       "      <td>0</td>\n",
       "      <td>0</td>\n",
       "      <td>0</td>\n",
       "      <td>0</td>\n",
       "      <td>14.0</td>\n",
       "      <td>7.0</td>\n",
       "      <td>1</td>\n",
       "      <td>3214906.5</td>\n",
       "      <td>0</td>\n",
       "      <td>0</td>\n",
       "      <td>0</td>\n",
       "      <td>1</td>\n",
       "      <td>0</td>\n",
       "      <td>0</td>\n",
       "      <td>1</td>\n",
       "      <td>0</td>\n",
       "      <td>0</td>\n",
       "      <td>0</td>\n",
       "      <td>0</td>\n",
       "      <td>0</td>\n",
       "      <td>0</td>\n",
       "      <td>0</td>\n",
       "      <td>1</td>\n",
       "      <td>0</td>\n",
       "      <td>0</td>\n",
       "      <td>0</td>\n",
       "      <td>0</td>\n",
       "      <td>0</td>\n",
       "      <td>0</td>\n",
       "      <td>0</td>\n",
       "      <td>0</td>\n",
       "      <td>0</td>\n",
       "      <td>0</td>\n",
       "      <td>0</td>\n",
       "      <td>1</td>\n",
       "      <td>0</td>\n",
       "      <td>0</td>\n",
       "      <td>0</td>\n",
       "      <td>0</td>\n",
       "      <td>0</td>\n",
       "      <td>0</td>\n",
       "      <td>1</td>\n",
       "      <td>0</td>\n",
       "      <td>0</td>\n",
       "      <td>0</td>\n",
       "    </tr>\n",
       "  </tbody>\n",
       "</table>\n",
       "</div>"
      ],
      "text/plain": [
       "        ID  country  age_group  total_female  total_male  \\\n",
       "0   tour_0      101          3           1.0         1.0   \n",
       "1  tour_10      111          2           1.0         0.0   \n",
       "\n",
       "   package_transport_int  package_accomodation  package_food  \\\n",
       "0                      0                     0             0   \n",
       "1                      0                     0             0   \n",
       "\n",
       "   package_transport_tz  package_sightseeing  package_guided_tour  \\\n",
       "0                     0                    0                    0   \n",
       "1                     0                    0                    0   \n",
       "\n",
       "   package_insurance  night_mainland  night_zanzibar  first_trip_tz  \\\n",
       "0                  0            13.0             0.0              0   \n",
       "1                  0            14.0             7.0              1   \n",
       "\n",
       "   total_cost  tour_arrangement_Package Tour  travel_with_Children  \\\n",
       "0    674602.5                              0                     0   \n",
       "1   3214906.5                              0                     0   \n",
       "\n",
       "   travel_with_Friends/Relatives  travel_with_None  travel_with_Spouse  \\\n",
       "0                              1                 0                   0   \n",
       "1                              0                 1                   0   \n",
       "\n",
       "   travel_with_Spouse and Children  purpose_Leisure and Holidays  \\\n",
       "0                                0                             1   \n",
       "1                                0                             1   \n",
       "\n",
       "   purpose_Meetings and Conference  purpose_Other  \\\n",
       "0                                0              0   \n",
       "1                                0              0   \n",
       "\n",
       "   purpose_Scientific and Academic  purpose_Visiting Friends and Relatives  \\\n",
       "0                                0                                       0   \n",
       "1                                0                                       0   \n",
       "\n",
       "   purpose_Volunteering  main_activity_Bird watching  \\\n",
       "0                     0                            0   \n",
       "1                     0                            0   \n",
       "\n",
       "   main_activity_Conference tourism  main_activity_Cultural tourism  \\\n",
       "0                                 0                               0   \n",
       "1                                 0                               1   \n",
       "\n",
       "   main_activity_Diving and Sport Fishing  main_activity_Hunting tourism  \\\n",
       "0                                       0                              0   \n",
       "1                                       0                              0   \n",
       "\n",
       "   main_activity_Mountain climbing  main_activity_Wildlife tourism  \\\n",
       "0                                0                               1   \n",
       "1                                0                               0   \n",
       "\n",
       "   main_activity_business  info_source_Newspaper, magazines,brochures  \\\n",
       "0                       0                                           0   \n",
       "1                       0                                           0   \n",
       "\n",
       "   info_source_Radio, TV, Web  info_source_Tanzania Mission Abroad  \\\n",
       "0                           0                                    0   \n",
       "1                           0                                    0   \n",
       "\n",
       "   info_source_Trade fair  info_source_Travel, agent, tour operator  \\\n",
       "0                       0                                         0   \n",
       "1                       0                                         0   \n",
       "\n",
       "   info_source_inflight magazines  info_source_others  \\\n",
       "0                               0                   0   \n",
       "1                               0                   1   \n",
       "\n",
       "   most_impressing_Excellent Experience  most_impressing_Friendly People  \\\n",
       "0                                     0                                1   \n",
       "1                                     0                                0   \n",
       "\n",
       "   most_impressing_Good service  most_impressing_No comments  \\\n",
       "0                             0                            0   \n",
       "1                             0                            0   \n",
       "\n",
       "   most_impressing_None  most_impressing_Satisfies and Hope Come Back  \\\n",
       "0                     0                                             0   \n",
       "1                     0                                             0   \n",
       "\n",
       "   most_impressing_Wonderful Country, Landscape, Nature  \\\n",
       "0                                                  0      \n",
       "1                                                  1      \n",
       "\n",
       "   payment_mode_Credit Card  payment_mode_Other  \\\n",
       "0                         0                   0   \n",
       "1                         0                   0   \n",
       "\n",
       "   payment_mode_Travellers Cheque  \n",
       "0                               0  \n",
       "1                               0  "
      ]
     },
     "execution_count": 20,
     "metadata": {},
     "output_type": "execute_result"
    }
   ],
   "source": [
    "data.head(2)"
   ]
  },
  {
   "cell_type": "code",
   "execution_count": 21,
   "metadata": {},
   "outputs": [],
   "source": [
    "## convert float dtypes to int\n",
    "data[\"total_female\"] = data['total_female'].astype('int')\n",
    "data[\"total_male\"] = data['total_male'].astype('int')\n",
    "data[\"night_mainland\"] = data['night_mainland'].astype('int')\n",
    "data[\"night_zanzibar\"] = data['night_zanzibar'].astype('int')"
   ]
  },
  {
   "cell_type": "code",
   "execution_count": 22,
   "metadata": {},
   "outputs": [],
   "source": [
    "#feature engineering\n",
    "data[\"total_persons\"] = data[\"total_female\"] + data[\"total_male\"]\n",
    "\n",
    "data[\"total_nights_spent\"] = data[\"night_mainland\"] + data[\"night_zanzibar\"]\n"
   ]
  },
  {
   "cell_type": "code",
   "execution_count": 23,
   "metadata": {},
   "outputs": [],
   "source": [
    "## separate data into train and test\n",
    "train=data[data.total_cost.notnull()].reset_index(drop=True)\n",
    "test=data[data.total_cost.isna()].reset_index(drop=True)"
   ]
  },
  {
   "cell_type": "code",
   "execution_count": 24,
   "metadata": {},
   "outputs": [
    {
     "name": "stdout",
     "output_type": "stream",
     "text": [
      "(4809, 55)\n",
      "(1601, 55)\n"
     ]
    }
   ],
   "source": [
    "print(train.shape)\n",
    "print(test.shape)"
   ]
  },
  {
   "cell_type": "code",
   "execution_count": 25,
   "metadata": {},
   "outputs": [],
   "source": [
    "#Modelling\n",
    "feat_cols = train.drop([\"ID\",\"total_cost\"],1)\n",
    "cols = feat_cols.columns\n",
    "target=train[\"total_cost\"]"
   ]
  },
  {
   "cell_type": "code",
   "execution_count": 26,
   "metadata": {},
   "outputs": [],
   "source": [
    "from sklearn.model_selection import train_test_split\n",
    "from sklearn.model_selection import KFold, cross_val_score"
   ]
  },
  {
   "cell_type": "code",
   "execution_count": 27,
   "metadata": {},
   "outputs": [
    {
     "name": "stdout",
     "output_type": "stream",
     "text": [
      "(3606, 53) (3606,)\n",
      "(1203, 53) (1203,)\n"
     ]
    }
   ],
   "source": [
    "# create training and testing vars\n",
    "X_train, X_test, y_train, y_test = train_test_split(train[cols],target, test_size=0.25, random_state = 42)\n",
    "print (X_train.shape, y_train.shape)\n",
    "print (X_test.shape, y_test.shape)"
   ]
  },
  {
   "cell_type": "code",
   "execution_count": 46,
   "metadata": {},
   "outputs": [],
   "source": [
    "from sklearn.svm import SVR\n",
    "from sklearn.metrics import mean_absolute_error\n"
   ]
  },
  {
   "cell_type": "code",
   "execution_count": 54,
   "metadata": {},
   "outputs": [],
   "source": [
    "SVRmodel = SVR(kernel = 'linear',C=1e3, gamma=0.1)\n",
    "SVRmodel.fit(X_train, y_train)\n",
    "y_pred = SVRmodel.predict(X_test)"
   ]
  },
  {
   "cell_type": "code",
   "execution_count": 55,
   "metadata": {},
   "outputs": [
    {
     "name": "stdout",
     "output_type": "stream",
     "text": [
      "Random forest validation MAE =  5476603.547353112\n"
     ]
    }
   ],
   "source": [
    "predictions_SVR = SVRmodel.predict(X_test)\n",
    "MAE = mean_absolute_error(y_test , predictions_SVR)\n",
    "print('Random forest validation MAE = ', MAE)"
   ]
  },
  {
   "cell_type": "code",
   "execution_count": 59,
   "metadata": {},
   "outputs": [
    {
     "name": "stdout",
     "output_type": "stream",
     "text": [
      "Train RMSLE: 5476603.547353112\n"
     ]
    }
   ],
   "source": [
    "\n",
    "SVRmodel = SVR(C=0.3, max_iter=200)\n",
    "SVRmodel.fit(X_train, y_train)\n",
    "\n",
    "svr_preds_tr = SVRmodel.predict(X_train)\n",
    "print('Train RMSLE:', mean_absolute_error(y_test , predictions_SVR))\n",
    "\n"
   ]
  },
  {
   "cell_type": "code",
   "execution_count": 40,
   "metadata": {},
   "outputs": [
    {
     "name": "stdout",
     "output_type": "stream",
     "text": [
      "Random forest validation MAE =  6738069.609157107\n"
     ]
    }
   ],
   "source": [
    "# Get the mean absolute error on the validation data\n",
    "predictions_SVR = SVRmodel.predict(X_test)\n",
    "MAE = mean_absolute_error(y_test , predictions_SVR)\n",
    "print('Random forest validation MAE = ', MAE)"
   ]
  },
  {
   "cell_type": "code",
   "execution_count": 38,
   "metadata": {},
   "outputs": [],
   "source": [
    "#predict and prepare submission file\n",
    "sub = test[cols]\n",
    "predictions_XGB = XGBmodel.predict(sub)\n",
    "submission_df = pd.DataFrame({'ID': test.ID, 'total_cost': predictions_XGB})\n",
    "submission_df.to_csv('submitXGB.csv',index=False)"
   ]
  },
  {
   "cell_type": "code",
   "execution_count": 39,
   "metadata": {},
   "outputs": [
    {
     "data": {
      "text/html": [
       "<div>\n",
       "<style scoped>\n",
       "    .dataframe tbody tr th:only-of-type {\n",
       "        vertical-align: middle;\n",
       "    }\n",
       "\n",
       "    .dataframe tbody tr th {\n",
       "        vertical-align: top;\n",
       "    }\n",
       "\n",
       "    .dataframe thead th {\n",
       "        text-align: right;\n",
       "    }\n",
       "</style>\n",
       "<table border=\"1\" class=\"dataframe\">\n",
       "  <thead>\n",
       "    <tr style=\"text-align: right;\">\n",
       "      <th></th>\n",
       "      <th>ID</th>\n",
       "      <th>total_cost</th>\n",
       "    </tr>\n",
       "  </thead>\n",
       "  <tbody>\n",
       "    <tr>\n",
       "      <th>0</th>\n",
       "      <td>tour_1</td>\n",
       "      <td>21079478.0</td>\n",
       "    </tr>\n",
       "    <tr>\n",
       "      <th>1</th>\n",
       "      <td>tour_100</td>\n",
       "      <td>21425198.0</td>\n",
       "    </tr>\n",
       "  </tbody>\n",
       "</table>\n",
       "</div>"
      ],
      "text/plain": [
       "         ID  total_cost\n",
       "0    tour_1  21079478.0\n",
       "1  tour_100  21425198.0"
      ]
     },
     "execution_count": 39,
     "metadata": {},
     "output_type": "execute_result"
    }
   ],
   "source": [
    "submission_df.head(2)"
   ]
  },
  {
   "cell_type": "code",
   "execution_count": null,
   "metadata": {},
   "outputs": [],
   "source": [
    "pandas."
   ]
  }
 ],
 "metadata": {
  "kernelspec": {
   "display_name": "Python 3",
   "language": "python",
   "name": "python3"
  },
  "language_info": {
   "codemirror_mode": {
    "name": "ipython",
    "version": 3
   },
   "file_extension": ".py",
   "mimetype": "text/x-python",
   "name": "python",
   "nbconvert_exporter": "python",
   "pygments_lexer": "ipython3",
   "version": "3.7.6"
  }
 },
 "nbformat": 4,
 "nbformat_minor": 4
}
